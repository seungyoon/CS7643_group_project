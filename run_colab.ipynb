{
  "nbformat": 4,
  "nbformat_minor": 0,
  "metadata": {
    "colab": {
      "name": "run_colab.ipynb",
      "provenance": [],
      "collapsed_sections": [],
      "machine_shape": "hm"
    },
    "kernelspec": {
      "name": "python3",
      "display_name": "Python 3"
    },
    "language_info": {
      "name": "python"
    },
    "accelerator": "GPU"
  },
  "cells": [
    {
      "cell_type": "code",
      "metadata": {
        "colab": {
          "base_uri": "https://localhost:8080/"
        },
        "id": "2i0azu9Wn4Kn",
        "outputId": "0565debd-ca2d-490c-d595-bf2589ef4abd"
      },
      "source": [
        "gpu_info = !nvidia-smi\n",
        "gpu_info = '\\n'.join(gpu_info)\n",
        "if gpu_info.find('failed') >= 0:\n",
        "  print('Select the Runtime > \"Change runtime type\" menu to enable a GPU accelerator, ')\n",
        "  print('and then re-execute this cell.')\n",
        "else:\n",
        "  print(gpu_info)"
      ],
      "execution_count": 12,
      "outputs": [
        {
          "output_type": "stream",
          "text": [
            "Tue May  4 04:25:19 2021       \n",
            "+-----------------------------------------------------------------------------+\n",
            "| NVIDIA-SMI 465.19.01    Driver Version: 460.32.03    CUDA Version: 11.2     |\n",
            "|-------------------------------+----------------------+----------------------+\n",
            "| GPU  Name        Persistence-M| Bus-Id        Disp.A | Volatile Uncorr. ECC |\n",
            "| Fan  Temp  Perf  Pwr:Usage/Cap|         Memory-Usage | GPU-Util  Compute M. |\n",
            "|                               |                      |               MIG M. |\n",
            "|===============================+======================+======================|\n",
            "|   0  Tesla P100-PCIE...  Off  | 00000000:00:04.0 Off |                    0 |\n",
            "| N/A   39C    P0    26W / 250W |      0MiB / 16280MiB |      0%      Default |\n",
            "|                               |                      |                  N/A |\n",
            "+-------------------------------+----------------------+----------------------+\n",
            "                                                                               \n",
            "+-----------------------------------------------------------------------------+\n",
            "| Processes:                                                                  |\n",
            "|  GPU   GI   CI        PID   Type   Process name                  GPU Memory |\n",
            "|        ID   ID                                                   Usage      |\n",
            "|=============================================================================|\n",
            "|  No running processes found                                                 |\n",
            "+-----------------------------------------------------------------------------+\n"
          ],
          "name": "stdout"
        }
      ]
    },
    {
      "cell_type": "code",
      "metadata": {
        "colab": {
          "base_uri": "https://localhost:8080/"
        },
        "id": "e0J5dJGwPjYQ",
        "outputId": "dc6d3d40-217f-4533-9bf0-faafdcaa6cca"
      },
      "source": [
        "!pwd\n"
      ],
      "execution_count": 1,
      "outputs": [
        {
          "output_type": "stream",
          "text": [
            "/content\n"
          ],
          "name": "stdout"
        }
      ]
    },
    {
      "cell_type": "code",
      "metadata": {
        "colab": {
          "base_uri": "https://localhost:8080/"
        },
        "id": "MDfRb6H7MvyR",
        "outputId": "1cab8103-55d7-4ac4-fef1-8095fa2907e2"
      },
      "source": [
        "!rm -rf CS7643_group_project/\n",
        "!git clone https://github.com/seungyoon/CS7643_group_project.git\n"
      ],
      "execution_count": 2,
      "outputs": [
        {
          "output_type": "stream",
          "text": [
            "Cloning into 'CS7643_group_project'...\n",
            "remote: Enumerating objects: 272, done.\u001b[K\n",
            "remote: Counting objects: 100% (272/272), done.\u001b[K\n",
            "remote: Compressing objects: 100% (195/195), done.\u001b[K\n",
            "remote: Total 272 (delta 154), reused 190 (delta 75), pack-reused 0\u001b[K\n",
            "Receiving objects: 100% (272/272), 85.52 MiB | 23.21 MiB/s, done.\n",
            "Resolving deltas: 100% (154/154), done.\n",
            "Checking out files: 100% (46/46), done.\n"
          ],
          "name": "stdout"
        }
      ]
    },
    {
      "cell_type": "code",
      "metadata": {
        "colab": {
          "base_uri": "https://localhost:8080/"
        },
        "id": "7LJmKkhFOCzy",
        "outputId": "12890b67-cd08-4a23-fd46-f5130ea3e008"
      },
      "source": [
        "cd CS7643_group_project"
      ],
      "execution_count": 3,
      "outputs": [
        {
          "output_type": "stream",
          "text": [
            "/content/CS7643_group_project\n"
          ],
          "name": "stdout"
        }
      ]
    },
    {
      "cell_type": "code",
      "metadata": {
        "colab": {
          "base_uri": "https://localhost:8080/"
        },
        "id": "CxVgQ1mPPIU_",
        "outputId": "fb9841b0-670d-4847-a053-594054aafd85"
      },
      "source": [
        "!ls"
      ],
      "execution_count": 4,
      "outputs": [
        {
          "output_type": "stream",
          "text": [
            "cites\t\tdata_utils.py  README.md\t       transformers.py\n",
            "create_data.py\tgenerators.py  seq2seq-lstm.py\n",
            "data\t\tparam.py       seq2seq-transformer.py\n"
          ],
          "name": "stdout"
        }
      ]
    },
    {
      "cell_type": "code",
      "metadata": {
        "colab": {
          "base_uri": "https://localhost:8080/"
        },
        "id": "XmeXg0WXEYYG",
        "outputId": "d17f1a66-0ec3-4972-f013-f879e0a2ca9c"
      },
      "source": [
        "!pip install wandb"
      ],
      "execution_count": 5,
      "outputs": [
        {
          "output_type": "stream",
          "text": [
            "Collecting wandb\n",
            "\u001b[?25l  Downloading https://files.pythonhosted.org/packages/5c/ee/d755f9e5466df64c8416a2c6a860fb3aaa43ed6ea8e8e8e81460fda5788b/wandb-0.10.28-py2.py3-none-any.whl (2.1MB)\n",
            "\u001b[K     |████████████████████████████████| 2.1MB 4.3MB/s \n",
            "\u001b[?25hCollecting GitPython>=1.0.0\n",
            "\u001b[?25l  Downloading https://files.pythonhosted.org/packages/a6/99/98019716955ba243657daedd1de8f3a88ca1f5b75057c38e959db22fb87b/GitPython-3.1.14-py3-none-any.whl (159kB)\n",
            "\u001b[K     |████████████████████████████████| 163kB 52.3MB/s \n",
            "\u001b[?25hRequirement already satisfied: PyYAML in /usr/local/lib/python3.7/dist-packages (from wandb) (3.13)\n",
            "Collecting shortuuid>=0.5.0\n",
            "  Downloading https://files.pythonhosted.org/packages/25/a6/2ecc1daa6a304e7f1b216f0896b26156b78e7c38e1211e9b798b4716c53d/shortuuid-1.0.1-py3-none-any.whl\n",
            "Requirement already satisfied: Click>=7.0 in /usr/local/lib/python3.7/dist-packages (from wandb) (7.1.2)\n",
            "Collecting pathtools\n",
            "  Downloading https://files.pythonhosted.org/packages/e7/7f/470d6fcdf23f9f3518f6b0b76be9df16dcc8630ad409947f8be2eb0ed13a/pathtools-0.1.2.tar.gz\n",
            "Collecting subprocess32>=3.5.3\n",
            "\u001b[?25l  Downloading https://files.pythonhosted.org/packages/32/c8/564be4d12629b912ea431f1a50eb8b3b9d00f1a0b1ceff17f266be190007/subprocess32-3.5.4.tar.gz (97kB)\n",
            "\u001b[K     |████████████████████████████████| 102kB 12.5MB/s \n",
            "\u001b[?25hRequirement already satisfied: psutil>=5.0.0 in /usr/local/lib/python3.7/dist-packages (from wandb) (5.4.8)\n",
            "Requirement already satisfied: protobuf>=3.12.0 in /usr/local/lib/python3.7/dist-packages (from wandb) (3.12.4)\n",
            "Requirement already satisfied: requests<3,>=2.0.0 in /usr/local/lib/python3.7/dist-packages (from wandb) (2.23.0)\n",
            "Collecting configparser>=3.8.1\n",
            "  Downloading https://files.pythonhosted.org/packages/fd/01/ff260a18caaf4457eb028c96eeb405c4a230ca06c8ec9c1379f813caa52e/configparser-5.0.2-py3-none-any.whl\n",
            "Collecting sentry-sdk>=0.4.0\n",
            "\u001b[?25l  Downloading https://files.pythonhosted.org/packages/f3/92/5a33be64990ba815364a8f2dd9e6f51de60d23dfddafb4f1fc5577d4dc64/sentry_sdk-1.0.0-py2.py3-none-any.whl (131kB)\n",
            "\u001b[K     |████████████████████████████████| 133kB 61.8MB/s \n",
            "\u001b[?25hRequirement already satisfied: promise<3,>=2.0 in /usr/local/lib/python3.7/dist-packages (from wandb) (2.3)\n",
            "Requirement already satisfied: six>=1.13.0 in /usr/local/lib/python3.7/dist-packages (from wandb) (1.15.0)\n",
            "Collecting docker-pycreds>=0.4.0\n",
            "  Downloading https://files.pythonhosted.org/packages/f5/e8/f6bd1eee09314e7e6dee49cbe2c5e22314ccdb38db16c9fc72d2fa80d054/docker_pycreds-0.4.0-py2.py3-none-any.whl\n",
            "Requirement already satisfied: python-dateutil>=2.6.1 in /usr/local/lib/python3.7/dist-packages (from wandb) (2.8.1)\n",
            "Collecting gitdb<5,>=4.0.1\n",
            "\u001b[?25l  Downloading https://files.pythonhosted.org/packages/ea/e8/f414d1a4f0bbc668ed441f74f44c116d9816833a48bf81d22b697090dba8/gitdb-4.0.7-py3-none-any.whl (63kB)\n",
            "\u001b[K     |████████████████████████████████| 71kB 10.3MB/s \n",
            "\u001b[?25hRequirement already satisfied: setuptools in /usr/local/lib/python3.7/dist-packages (from protobuf>=3.12.0->wandb) (56.0.0)\n",
            "Requirement already satisfied: idna<3,>=2.5 in /usr/local/lib/python3.7/dist-packages (from requests<3,>=2.0.0->wandb) (2.10)\n",
            "Requirement already satisfied: urllib3!=1.25.0,!=1.25.1,<1.26,>=1.21.1 in /usr/local/lib/python3.7/dist-packages (from requests<3,>=2.0.0->wandb) (1.24.3)\n",
            "Requirement already satisfied: certifi>=2017.4.17 in /usr/local/lib/python3.7/dist-packages (from requests<3,>=2.0.0->wandb) (2020.12.5)\n",
            "Requirement already satisfied: chardet<4,>=3.0.2 in /usr/local/lib/python3.7/dist-packages (from requests<3,>=2.0.0->wandb) (3.0.4)\n",
            "Collecting smmap<5,>=3.0.1\n",
            "  Downloading https://files.pythonhosted.org/packages/68/ee/d540eb5e5996eb81c26ceffac6ee49041d473bc5125f2aa995cf51ec1cf1/smmap-4.0.0-py2.py3-none-any.whl\n",
            "Building wheels for collected packages: pathtools, subprocess32\n",
            "  Building wheel for pathtools (setup.py) ... \u001b[?25l\u001b[?25hdone\n",
            "  Created wheel for pathtools: filename=pathtools-0.1.2-cp37-none-any.whl size=8786 sha256=6cb55e9510407a552362e1527f58a94db7743795593d477765b8a48c5c90c2e0\n",
            "  Stored in directory: /root/.cache/pip/wheels/0b/04/79/c3b0c3a0266a3cb4376da31e5bfe8bba0c489246968a68e843\n",
            "  Building wheel for subprocess32 (setup.py) ... \u001b[?25l\u001b[?25hdone\n",
            "  Created wheel for subprocess32: filename=subprocess32-3.5.4-cp37-none-any.whl size=6489 sha256=93f48dc88c3df7b90c4c31e98b9ec0fdeea497707512e2b9f747039338a4b2bd\n",
            "  Stored in directory: /root/.cache/pip/wheels/68/39/1a/5e402bdfdf004af1786c8b853fd92f8c4a04f22aad179654d1\n",
            "Successfully built pathtools subprocess32\n",
            "Installing collected packages: smmap, gitdb, GitPython, shortuuid, pathtools, subprocess32, configparser, sentry-sdk, docker-pycreds, wandb\n",
            "Successfully installed GitPython-3.1.14 configparser-5.0.2 docker-pycreds-0.4.0 gitdb-4.0.7 pathtools-0.1.2 sentry-sdk-1.0.0 shortuuid-1.0.1 smmap-4.0.0 subprocess32-3.5.4 wandb-0.10.28\n"
          ],
          "name": "stdout"
        }
      ]
    },
    {
      "cell_type": "code",
      "metadata": {
        "colab": {
          "base_uri": "https://localhost:8080/"
        },
        "id": "M_InczsSErsU",
        "outputId": "ea0d76a7-de43-44d3-dd90-1fa9d8f05924"
      },
      "source": [
        "import wandb\n",
        "!wandb login"
      ],
      "execution_count": 6,
      "outputs": [
        {
          "output_type": "stream",
          "text": [
            "\u001b[34m\u001b[1mwandb\u001b[0m: You can find your API key in your browser here: https://wandb.ai/authorize\n",
            "\u001b[34m\u001b[1mwandb\u001b[0m: Paste an API key from your profile and hit enter: \n",
            "\u001b[34m\u001b[1mwandb\u001b[0m: Appending key for api.wandb.ai to your netrc file: /root/.netrc\n"
          ],
          "name": "stdout"
        }
      ]
    },
    {
      "cell_type": "code",
      "metadata": {
        "colab": {
          "base_uri": "https://localhost:8080/"
        },
        "id": "ktpmzWTDQVi6",
        "outputId": "5c98b76f-02c2-475f-baaa-451ea51e9edd"
      },
      "source": [
        "!git pull origin main"
      ],
      "execution_count": 7,
      "outputs": [
        {
          "output_type": "stream",
          "text": [
            "From https://github.com/seungyoon/CS7643_group_project\n",
            " * branch            main       -> FETCH_HEAD\n",
            "Already up to date.\n"
          ],
          "name": "stdout"
        }
      ]
    },
    {
      "cell_type": "code",
      "metadata": {
        "colab": {
          "base_uri": "https://localhost:8080/"
        },
        "id": "n1t-8R5NQAot",
        "outputId": "d18dbf29-a7a0-4c07-ff4d-b8aa35732527"
      },
      "source": [
        "#!python seq2seq-lstm.py middle add\n",
        "#!python seq2seq-transformer.py Vanilla large rev\n",
        "!python seq2seq-transformer.py Universal middle add depth_wise_conv\n",
        "\n",
        "#!python seq2seq-transformer.py Universal large badd fully_connected\n"
      ],
      "execution_count": 11,
      "outputs": [
        {
          "output_type": "stream",
          "text": [
            "\u001b[34m\u001b[1mwandb\u001b[0m: Currently logged in as: \u001b[33myoonl\u001b[0m (use `wandb login --relogin` to force relogin)\n",
            "2021-05-04 03:57:47.086438: I tensorflow/stream_executor/platform/default/dso_loader.cc:49] Successfully opened dynamic library libcudart.so.11.0\n",
            "\u001b[34m\u001b[1mwandb\u001b[0m: Tracking run with wandb version 0.10.28\n",
            "\u001b[34m\u001b[1mwandb\u001b[0m: Syncing run \u001b[33msmooth-wind-53\u001b[0m\n",
            "\u001b[34m\u001b[1mwandb\u001b[0m: ⭐️ View project at \u001b[34m\u001b[4mhttps://wandb.ai/yoonl/cs7643-gp\u001b[0m\n",
            "\u001b[34m\u001b[1mwandb\u001b[0m: 🚀 View run at \u001b[34m\u001b[4mhttps://wandb.ai/yoonl/cs7643-gp/runs/17urwceq\u001b[0m\n",
            "\u001b[34m\u001b[1mwandb\u001b[0m: Run data is saved locally in /content/CS7643_group_project/wandb/run-20210504_035745-17urwceq\n",
            "\u001b[34m\u001b[1mwandb\u001b[0m: Run `wandb offline` to turn off syncing.\n",
            "\n",
            "\u001b[34m\u001b[1mwandb\u001b[0m: \u001b[33mWARNING\u001b[0m Calling run.save without any arguments is deprecated.Changes to attributes are automatically persisted.\n",
            "Number of middle training examples: 20480\n",
            "Number of middle validation examples: 2560\n",
            "Number of middle test examples: 2560\n",
            "TransformerModel(\n",
            "  (encoder): Embedding(15, 128)\n",
            "  (decoder): Embedding(15, 128)\n",
            "  (transformer): UniversalTransformer(\n",
            "    (encoder): UniversalTransformerEncoder(\n",
            "      (positional_embedding): PositionalEncoding(\n",
            "        (dropout): Dropout(p=0.0, inplace=False)\n",
            "      )\n",
            "      (temporal_embedding): TemporalEncoding(\n",
            "        (dropout): Dropout(p=0.1, inplace=False)\n",
            "      )\n",
            "      (self_attn): MultiheadAttention(\n",
            "        (out_proj): _LinearWithBias(in_features=128, out_features=128, bias=True)\n",
            "      )\n",
            "      (dropout_1): Dropout(p=0.1, inplace=False)\n",
            "      (norm_1): LayerNorm((128,), eps=1e-05, elementwise_affine=True)\n",
            "      (transition): DepthwiseTransitionFunction(\n",
            "        (conv_1): Conv1dDepthwise(\n",
            "          (pad): ConstantPad1d(padding=(1, 1), value=0)\n",
            "          (depthwise): Conv1d(128, 128, kernel_size=(3,), stride=(1,), groups=128)\n",
            "          (pointwise): Conv1d(128, 128, kernel_size=(1,), stride=(1,))\n",
            "        )\n",
            "        (dropout): Dropout(p=0.2, inplace=False)\n",
            "        (conv_2): Conv1dDepthwise(\n",
            "          (pad): ConstantPad1d(padding=(2, 2), value=0)\n",
            "          (depthwise): Conv1d(128, 128, kernel_size=(5,), stride=(1,), groups=128)\n",
            "          (pointwise): Conv1d(128, 128, kernel_size=(1,), stride=(1,))\n",
            "        )\n",
            "      )\n",
            "      (dropout_2): Dropout(p=0.1, inplace=False)\n",
            "      (norm_2): LayerNorm((128,), eps=1e-05, elementwise_affine=True)\n",
            "    )\n",
            "    (decoder): UniversalTransformerDecoder(\n",
            "      (positional_embedding): PositionalEncoding(\n",
            "        (dropout): Dropout(p=0.0, inplace=False)\n",
            "      )\n",
            "      (temporal_embedding): TemporalEncoding(\n",
            "        (dropout): Dropout(p=0.1, inplace=False)\n",
            "      )\n",
            "      (self_attn): MultiheadAttention(\n",
            "        (out_proj): _LinearWithBias(in_features=128, out_features=128, bias=True)\n",
            "      )\n",
            "      (dropout_1): Dropout(p=0.1, inplace=False)\n",
            "      (norm_1): LayerNorm((128,), eps=1e-05, elementwise_affine=True)\n",
            "      (transition): DepthwiseTransitionFunction(\n",
            "        (conv_1): Conv1dDepthwise(\n",
            "          (pad): ConstantPad1d(padding=(2, 0), value=0)\n",
            "          (depthwise): Conv1d(128, 128, kernel_size=(3,), stride=(1,), groups=128)\n",
            "          (pointwise): Conv1d(128, 128, kernel_size=(1,), stride=(1,))\n",
            "        )\n",
            "        (dropout): Dropout(p=0.2, inplace=False)\n",
            "        (conv_2): Conv1dDepthwise(\n",
            "          (pad): ConstantPad1d(padding=(4, 0), value=0)\n",
            "          (depthwise): Conv1d(128, 128, kernel_size=(5,), stride=(1,), groups=128)\n",
            "          (pointwise): Conv1d(128, 128, kernel_size=(1,), stride=(1,))\n",
            "        )\n",
            "      )\n",
            "      (dropout_2): Dropout(p=0.1, inplace=False)\n",
            "      (norm_2): LayerNorm((128,), eps=1e-05, elementwise_affine=True)\n",
            "      (multihead_attn): MultiheadAttention(\n",
            "        (out_proj): _LinearWithBias(in_features=128, out_features=128, bias=True)\n",
            "      )\n",
            "      (dropout_3): Dropout(p=0.1, inplace=False)\n",
            "      (norm_3): LayerNorm((128,), eps=1e-05, elementwise_affine=True)\n",
            "    )\n",
            "  )\n",
            "  (fc_out): Linear(in_features=128, out_features=15, bias=True)\n",
            ")\n",
            "The model has 273,807 trainable parameters\n",
            "\n",
            "------------ Universal add middle task ------------\n",
            "Epoch: 01 | Time 0m 9s\tTrain Loss: 1.733\tValid Loss: 1.261\n",
            "Epoch: 02 | Time 0m 9s\tTrain Loss: 1.258\tValid Loss: 1.023\n",
            "Epoch: 03 | Time 0m 9s\tTrain Loss: 1.052\tValid Loss: 1.079\n",
            "Epoch: 04 | Time 0m 9s\tTrain Loss: 0.995\tValid Loss: 0.651\n",
            "Epoch: 05 | Time 0m 9s\tTrain Loss: 0.613\tValid Loss: 0.084\n",
            "Epoch: 06 | Time 0m 9s\tTrain Loss: 0.263\tValid Loss: 0.002\n",
            "Epoch: 07 | Time 0m 9s\tTrain Loss: 0.105\tValid Loss: 0.000\n",
            "Epoch: 08 | Time 0m 9s\tTrain Loss: 0.079\tValid Loss: 0.000\n",
            "Epoch: 09 | Time 0m 9s\tTrain Loss: 0.061\tValid Loss: 0.000\n",
            "Epoch: 10 | Time 0m 9s\tTrain Loss: 0.050\tValid Loss: 0.000\n",
            "Test Loss : 0.000\n",
            "\n",
            "------------ Universal add middle Task Result ------------\n",
            "\tSequence  Accuracy: 1.000 | Number of Sequences :  2560 |  Sequence Match :  2560\n",
            "\tCharacter Accuracy: 1.000 | Number of Characters: 102400 |  Character Match: 102400\n",
            "\n",
            "\u001b[34m\u001b[1mwandb\u001b[0m: Waiting for W&B process to finish, PID 414\n",
            "\u001b[34m\u001b[1mwandb\u001b[0m: Program ended successfully.\n",
            "\u001b[34m\u001b[1mwandb\u001b[0m:                                                                                \n",
            "\u001b[34m\u001b[1mwandb\u001b[0m: Find user logs for this run at: /content/CS7643_group_project/wandb/run-20210504_035745-17urwceq/logs/debug.log\n",
            "\u001b[34m\u001b[1mwandb\u001b[0m: Find internal logs for this run at: /content/CS7643_group_project/wandb/run-20210504_035745-17urwceq/logs/debug-internal.log\n",
            "\u001b[34m\u001b[1mwandb\u001b[0m: Run summary:\n",
            "\u001b[34m\u001b[1mwandb\u001b[0m:           Train loss 0.05028\n",
            "\u001b[34m\u001b[1mwandb\u001b[0m:             _runtime 103\n",
            "\u001b[34m\u001b[1mwandb\u001b[0m:           _timestamp 1620100768\n",
            "\u001b[34m\u001b[1mwandb\u001b[0m:                _step 22\n",
            "\u001b[34m\u001b[1mwandb\u001b[0m:      Validation loss 0.05028\n",
            "\u001b[34m\u001b[1mwandb\u001b[0m:            Test loss 0.00014\n",
            "\u001b[34m\u001b[1mwandb\u001b[0m:    Sequence accuracy 1.0\n",
            "\u001b[34m\u001b[1mwandb\u001b[0m:   Character accuracy 1.0\n",
            "\u001b[34m\u001b[1mwandb\u001b[0m: Run history:\n",
            "\u001b[34m\u001b[1mwandb\u001b[0m:           Train loss █▆▅▅▃▂▁▁▁▁\n",
            "\u001b[34m\u001b[1mwandb\u001b[0m:             _runtime ▁▁▂▂▃▃▃▃▄▄▅▅▅▅▆▆▇▇█████\n",
            "\u001b[34m\u001b[1mwandb\u001b[0m:           _timestamp ▁▁▂▂▃▃▃▃▄▄▅▅▅▅▆▆▇▇█████\n",
            "\u001b[34m\u001b[1mwandb\u001b[0m:                _step ▁▁▂▂▂▃▃▃▄▄▄▅▅▅▅▆▆▆▇▇▇██\n",
            "\u001b[34m\u001b[1mwandb\u001b[0m:      Validation loss █▆▅▅▃▂▁▁▁▁\n",
            "\u001b[34m\u001b[1mwandb\u001b[0m:            Test loss ▁\n",
            "\u001b[34m\u001b[1mwandb\u001b[0m:    Sequence accuracy ▁\n",
            "\u001b[34m\u001b[1mwandb\u001b[0m:   Character accuracy ▁\n",
            "\u001b[34m\u001b[1mwandb\u001b[0m: \n",
            "\u001b[34m\u001b[1mwandb\u001b[0m: Synced 5 W&B file(s), 0 media file(s), 0 artifact file(s) and 0 other file(s)\n",
            "\u001b[34m\u001b[1mwandb\u001b[0m: \n",
            "\u001b[34m\u001b[1mwandb\u001b[0m: Synced \u001b[33msmooth-wind-53\u001b[0m: \u001b[34mhttps://wandb.ai/yoonl/cs7643-gp/runs/17urwceq\u001b[0m\n"
          ],
          "name": "stdout"
        }
      ]
    }
  ]
}